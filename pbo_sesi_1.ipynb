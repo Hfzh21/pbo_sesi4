{
  "nbformat": 4,
  "nbformat_minor": 0,
  "metadata": {
    "colab": {
      "provenance": [],
      "authorship_tag": "ABX9TyOBG3xd/qmFRNBBHyF5vpzB",
      "include_colab_link": true
    },
    "kernelspec": {
      "name": "python3",
      "display_name": "Python 3"
    },
    "language_info": {
      "name": "python"
    }
  },
  "cells": [
    {
      "cell_type": "markdown",
      "metadata": {
        "id": "view-in-github",
        "colab_type": "text"
      },
      "source": [
        "<a href=\"https://colab.research.google.com/github/Hfzh21/pbo_sesi4/blob/main/pbo_sesi_1.ipynb\" target=\"_parent\"><img src=\"https://colab.research.google.com/assets/colab-badge.svg\" alt=\"Open In Colab\"/></a>"
      ]
    },
    {
      "cell_type": "code",
      "execution_count": null,
      "metadata": {
        "colab": {
          "base_uri": "https://localhost:8080/"
        },
        "id": "ZfOBFhvzwy0x",
        "outputId": "ac68d01a-24cb-4056-b2d3-5cb592bdd807"
      },
      "outputs": [
        {
          "output_type": "stream",
          "name": "stdout",
          "text": [
            "m. hafizh rizki\n",
            "departement of information technology\n",
            "UIN ar-raniry\n",
            "jalan syech abdurrauf kopelma darussalam\n",
            "banda aceh 23111\n",
            "indonesia\n"
          ]
        }
      ],
      "source": [
        "print(\"m. hafizh rizki\")\n",
        "print(\"departement of information technology\")\n",
        "print(\"UIN ar-raniry\")\n",
        "print(\"jalan syech abdurrauf kopelma darussalam\")\n",
        "print(\"banda aceh 23111\")\n",
        "print(\"indonesia\")\n"
      ]
    },
    {
      "cell_type": "code",
      "source": [],
      "metadata": {
        "id": "TM-df-ynzYOh"
      },
      "execution_count": null,
      "outputs": []
    },
    {
      "cell_type": "code",
      "source": [
        "panjang = float(input(\"masukan panjang :\"))\n",
        "lebar = float(input(\"masukan lebar :\"))\n",
        "luas = lebar * panjang\n",
        "print (\"luas kamar\", luas)"
      ],
      "metadata": {
        "colab": {
          "base_uri": "https://localhost:8080/"
        },
        "id": "xnc75V9Gyfe3",
        "outputId": "ef1e15c9-b177-467d-a693-600fd99c7d0f"
      },
      "execution_count": null,
      "outputs": [
        {
          "output_type": "stream",
          "name": "stdout",
          "text": [
            "masukan panjang :5\n",
            "masukan lebar :4\n",
            "luas kamar 20.0\n"
          ]
        }
      ]
    },
    {
      "cell_type": "code",
      "source": [
        "n = int(input(\"masukkan bilangan bulat positif :\"))\n",
        "sm = n * (n + 1) / 2\n",
        "print(\"jumlah bilangan bulat positif adalah\", sm)"
      ],
      "metadata": {
        "colab": {
          "base_uri": "https://localhost:8080/"
        },
        "id": "QgVCGxaezbw-",
        "outputId": "fac6ee59-4797-40c3-929c-6ae011126a80"
      },
      "execution_count": null,
      "outputs": [
        {
          "output_type": "stream",
          "name": "stdout",
          "text": [
            "masukkan bilangan bulat positif :20\n",
            "jumlah bilangan bulat positif adalah 210.0\n"
          ]
        }
      ]
    },
    {
      "cell_type": "code",
      "source": [
        "from math import log10\n",
        "\n",
        "x = int (input (\"masukan bilangan dari x :\"))\n",
        "y = int (input (\"masukan bilangan dari y :\"))\n",
        "\n",
        "print(x, \"+\", y, \"adalah\", x+y)\n",
        "print(x, \"-\", y, \"adalah\", x-y)\n",
        "print(x, \"*\", y, \"adalah\", x*y)\n",
        "print(x, \"/\", y, \"adalah\", x/y)\n",
        "print(x, \"%\", y, \"adalah\", x%y)\n",
        "\n",
        "print(\"logaritma basis 10 dari \", x, \"adalah\", log10(x))\n",
        "print(x, \"^\", y, \"adalah\", x**y)"
      ],
      "metadata": {
        "colab": {
          "base_uri": "https://localhost:8080/"
        },
        "id": "7D5NWAO65rqM",
        "outputId": "42a9bc22-dc2d-4ea3-8b06-063442250bff"
      },
      "execution_count": null,
      "outputs": [
        {
          "output_type": "stream",
          "name": "stdout",
          "text": [
            "masukan bilangan dari x :2\n",
            "masukan bilangan dari y :3\n",
            "2 + 3 adalah 5\n",
            "2 - 3 adalah -1\n",
            "2 * 3 adalah 6\n",
            "2 / 3 adalah 0.6666666666666666\n",
            "2 % 3 adalah 2\n",
            "logaritma basis 10 dari  2 adalah 0.3010299956639812\n",
            "2 ^ 3 adalah 8\n"
          ]
        }
      ]
    },
    {
      "cell_type": "code",
      "source": [],
      "metadata": {
        "id": "woRzX90u61Lw"
      },
      "execution_count": null,
      "outputs": []
    }
  ]
}